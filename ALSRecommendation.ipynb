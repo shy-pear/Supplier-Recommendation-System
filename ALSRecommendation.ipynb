{
 "cells": [
  {
   "cell_type": "markdown",
   "id": "b9b06b12-1813-4143-b180-913b4397d18f",
   "metadata": {},
   "source": [
    "## Imports"
   ]
  },
  {
   "cell_type": "code",
   "execution_count": 43,
   "id": "2e614de3-f44a-40bc-980c-049699304918",
   "metadata": {},
   "outputs": [],
   "source": [
    "import numpy as np\n",
    "import pandas as pd\n",
    "\n",
    "import sklearn.preprocessing as skp"
   ]
  },
  {
   "cell_type": "code",
   "execution_count": 44,
   "id": "1ebdfa6a-0900-4ee8-a95b-dc3923aff923",
   "metadata": {},
   "outputs": [],
   "source": [
    "import scipy.sparse as sp"
   ]
  },
  {
   "cell_type": "code",
   "execution_count": 80,
   "id": "568d779d-59ba-4d15-a6a0-192db28c2981",
   "metadata": {},
   "outputs": [],
   "source": [
    "from implicit.als import AlternatingLeastSquares\n",
    "from implicit.evaluation import train_test_split\n",
    "from implicit.evaluation import mean_average_precision_at_k\n",
    "from implicit.evaluation import ndcg_at_k"
   ]
  },
  {
   "cell_type": "code",
   "execution_count": 77,
   "id": "84b74a26-8a0f-4750-b3ff-daefd28519bb",
   "metadata": {},
   "outputs": [],
   "source": [
    "import optuna"
   ]
  },
  {
   "cell_type": "markdown",
   "id": "33bc6f20-0e0c-4554-b2c7-359298e807e4",
   "metadata": {},
   "source": [
    "## Load Dataset"
   ]
  },
  {
   "cell_type": "code",
   "execution_count": 18,
   "id": "c0613870-0807-4fd6-abd3-ab9aefaa35b7",
   "metadata": {},
   "outputs": [],
   "source": [
    "data_path = \"Business-Supplier_Dataset1.csv\"\n",
    "data = pd.read_csv(data_path, engine='python')"
   ]
  },
  {
   "cell_type": "code",
   "execution_count": 19,
   "id": "f78c7dd6-6593-4c3e-86ef-0dcf787fcd77",
   "metadata": {},
   "outputs": [
    {
     "data": {
      "text/html": [
       "<div>\n",
       "<style scoped>\n",
       "    .dataframe tbody tr th:only-of-type {\n",
       "        vertical-align: middle;\n",
       "    }\n",
       "\n",
       "    .dataframe tbody tr th {\n",
       "        vertical-align: top;\n",
       "    }\n",
       "\n",
       "    .dataframe thead th {\n",
       "        text-align: right;\n",
       "    }\n",
       "</style>\n",
       "<table border=\"1\" class=\"dataframe\">\n",
       "  <thead>\n",
       "    <tr style=\"text-align: right;\">\n",
       "      <th></th>\n",
       "      <th>BusinessID</th>\n",
       "      <th>SupplierID</th>\n",
       "      <th>Quality</th>\n",
       "      <th>Serviceability</th>\n",
       "      <th>Communicativeness</th>\n",
       "      <th>Reputation</th>\n",
       "      <th>Financial Condition</th>\n",
       "      <th>Condition of Supplier's Assets</th>\n",
       "      <th>Price</th>\n",
       "      <th>Delivery Time</th>\n",
       "    </tr>\n",
       "  </thead>\n",
       "  <tbody>\n",
       "    <tr>\n",
       "      <th>0</th>\n",
       "      <td>1</td>\n",
       "      <td>14</td>\n",
       "      <td>10</td>\n",
       "      <td>3.74</td>\n",
       "      <td>1.88</td>\n",
       "      <td>7.16</td>\n",
       "      <td>5.46</td>\n",
       "      <td>1.31</td>\n",
       "      <td>78</td>\n",
       "      <td>17</td>\n",
       "    </tr>\n",
       "    <tr>\n",
       "      <th>1</th>\n",
       "      <td>1</td>\n",
       "      <td>40</td>\n",
       "      <td>2</td>\n",
       "      <td>4.83</td>\n",
       "      <td>2.87</td>\n",
       "      <td>6.11</td>\n",
       "      <td>5.05</td>\n",
       "      <td>4.56</td>\n",
       "      <td>14</td>\n",
       "      <td>16</td>\n",
       "    </tr>\n",
       "    <tr>\n",
       "      <th>2</th>\n",
       "      <td>1</td>\n",
       "      <td>31</td>\n",
       "      <td>7</td>\n",
       "      <td>5.69</td>\n",
       "      <td>9.65</td>\n",
       "      <td>8.60</td>\n",
       "      <td>6.28</td>\n",
       "      <td>9.69</td>\n",
       "      <td>60</td>\n",
       "      <td>28</td>\n",
       "    </tr>\n",
       "    <tr>\n",
       "      <th>3</th>\n",
       "      <td>1</td>\n",
       "      <td>46</td>\n",
       "      <td>1</td>\n",
       "      <td>1.14</td>\n",
       "      <td>4.81</td>\n",
       "      <td>4.55</td>\n",
       "      <td>2.79</td>\n",
       "      <td>7.40</td>\n",
       "      <td>35</td>\n",
       "      <td>1</td>\n",
       "    </tr>\n",
       "    <tr>\n",
       "      <th>4</th>\n",
       "      <td>1</td>\n",
       "      <td>18</td>\n",
       "      <td>7</td>\n",
       "      <td>6.86</td>\n",
       "      <td>9.23</td>\n",
       "      <td>8.65</td>\n",
       "      <td>4.34</td>\n",
       "      <td>7.02</td>\n",
       "      <td>37</td>\n",
       "      <td>3</td>\n",
       "    </tr>\n",
       "  </tbody>\n",
       "</table>\n",
       "</div>"
      ],
      "text/plain": [
       "   BusinessID  SupplierID  Quality  Serviceability  Communicativeness  \\\n",
       "0           1          14       10            3.74               1.88   \n",
       "1           1          40        2            4.83               2.87   \n",
       "2           1          31        7            5.69               9.65   \n",
       "3           1          46        1            1.14               4.81   \n",
       "4           1          18        7            6.86               9.23   \n",
       "\n",
       "   Reputation  Financial Condition  Condition of Supplier's Assets  Price  \\\n",
       "0        7.16                 5.46                            1.31     78   \n",
       "1        6.11                 5.05                            4.56     14   \n",
       "2        8.60                 6.28                            9.69     60   \n",
       "3        4.55                 2.79                            7.40     35   \n",
       "4        8.65                 4.34                            7.02     37   \n",
       "\n",
       "   Delivery Time  \n",
       "0             17  \n",
       "1             16  \n",
       "2             28  \n",
       "3              1  \n",
       "4              3  "
      ]
     },
     "execution_count": 19,
     "metadata": {},
     "output_type": "execute_result"
    }
   ],
   "source": [
    "data.head()"
   ]
  },
  {
   "cell_type": "code",
   "execution_count": 20,
   "id": "96fb63a6-bc67-48e4-9250-9fb8302de679",
   "metadata": {},
   "outputs": [
    {
     "data": {
      "text/html": [
       "<div>\n",
       "<style scoped>\n",
       "    .dataframe tbody tr th:only-of-type {\n",
       "        vertical-align: middle;\n",
       "    }\n",
       "\n",
       "    .dataframe tbody tr th {\n",
       "        vertical-align: top;\n",
       "    }\n",
       "\n",
       "    .dataframe thead th {\n",
       "        text-align: right;\n",
       "    }\n",
       "</style>\n",
       "<table border=\"1\" class=\"dataframe\">\n",
       "  <thead>\n",
       "    <tr style=\"text-align: right;\">\n",
       "      <th></th>\n",
       "      <th>BusinessID</th>\n",
       "      <th>SupplierID</th>\n",
       "      <th>Quality</th>\n",
       "      <th>Serviceability</th>\n",
       "      <th>Communicativeness</th>\n",
       "      <th>Reputation</th>\n",
       "      <th>Financial Condition</th>\n",
       "      <th>Condition of Supplier's Assets</th>\n",
       "      <th>Price</th>\n",
       "      <th>Delivery Time</th>\n",
       "    </tr>\n",
       "  </thead>\n",
       "  <tbody>\n",
       "    <tr>\n",
       "      <th>995</th>\n",
       "      <td>100</td>\n",
       "      <td>16</td>\n",
       "      <td>8</td>\n",
       "      <td>7.25</td>\n",
       "      <td>7.47</td>\n",
       "      <td>6.06</td>\n",
       "      <td>9.06</td>\n",
       "      <td>7.29</td>\n",
       "      <td>2</td>\n",
       "      <td>4</td>\n",
       "    </tr>\n",
       "    <tr>\n",
       "      <th>996</th>\n",
       "      <td>100</td>\n",
       "      <td>4</td>\n",
       "      <td>6</td>\n",
       "      <td>1.14</td>\n",
       "      <td>3.60</td>\n",
       "      <td>6.77</td>\n",
       "      <td>5.37</td>\n",
       "      <td>4.80</td>\n",
       "      <td>24</td>\n",
       "      <td>22</td>\n",
       "    </tr>\n",
       "    <tr>\n",
       "      <th>997</th>\n",
       "      <td>100</td>\n",
       "      <td>47</td>\n",
       "      <td>3</td>\n",
       "      <td>7.75</td>\n",
       "      <td>1.64</td>\n",
       "      <td>5.21</td>\n",
       "      <td>2.13</td>\n",
       "      <td>5.08</td>\n",
       "      <td>47</td>\n",
       "      <td>15</td>\n",
       "    </tr>\n",
       "    <tr>\n",
       "      <th>998</th>\n",
       "      <td>100</td>\n",
       "      <td>34</td>\n",
       "      <td>7</td>\n",
       "      <td>7.21</td>\n",
       "      <td>2.03</td>\n",
       "      <td>6.91</td>\n",
       "      <td>4.73</td>\n",
       "      <td>4.90</td>\n",
       "      <td>72</td>\n",
       "      <td>2</td>\n",
       "    </tr>\n",
       "    <tr>\n",
       "      <th>999</th>\n",
       "      <td>100</td>\n",
       "      <td>25</td>\n",
       "      <td>6</td>\n",
       "      <td>3.84</td>\n",
       "      <td>1.54</td>\n",
       "      <td>7.18</td>\n",
       "      <td>7.35</td>\n",
       "      <td>5.84</td>\n",
       "      <td>91</td>\n",
       "      <td>9</td>\n",
       "    </tr>\n",
       "  </tbody>\n",
       "</table>\n",
       "</div>"
      ],
      "text/plain": [
       "     BusinessID  SupplierID  Quality  Serviceability  Communicativeness  \\\n",
       "995         100          16        8            7.25               7.47   \n",
       "996         100           4        6            1.14               3.60   \n",
       "997         100          47        3            7.75               1.64   \n",
       "998         100          34        7            7.21               2.03   \n",
       "999         100          25        6            3.84               1.54   \n",
       "\n",
       "     Reputation  Financial Condition  Condition of Supplier's Assets  Price  \\\n",
       "995        6.06                 9.06                            7.29      2   \n",
       "996        6.77                 5.37                            4.80     24   \n",
       "997        5.21                 2.13                            5.08     47   \n",
       "998        6.91                 4.73                            4.90     72   \n",
       "999        7.18                 7.35                            5.84     91   \n",
       "\n",
       "     Delivery Time  \n",
       "995              4  \n",
       "996             22  \n",
       "997             15  \n",
       "998              2  \n",
       "999              9  "
      ]
     },
     "execution_count": 20,
     "metadata": {},
     "output_type": "execute_result"
    }
   ],
   "source": [
    "data.tail()"
   ]
  },
  {
   "cell_type": "code",
   "execution_count": 21,
   "id": "8670c745-b7e1-4e0f-9c74-973190478b0c",
   "metadata": {},
   "outputs": [],
   "source": [
    "def printFeatureStats(feature):\n",
    "    \n",
    "    min_value = data[feature].min()\n",
    "    max_value = data[feature].max()\n",
    "    quantiles = data[feature].quantile([0.25, 0.5, 0.75])\n",
    "\n",
    "    print(f\"Min: {min_value}, Max: {max_value}\")\n",
    "    print(f\"Quantiles: \\n{quantiles}\")"
   ]
  },
  {
   "cell_type": "code",
   "execution_count": 41,
   "id": "596b38d6-29fa-4c13-8b6a-b6e4b1fabe45",
   "metadata": {},
   "outputs": [
    {
     "name": "stdout",
     "output_type": "stream",
     "text": [
      "\n",
      "\n",
      "Min: 1, Max: 100\n",
      "Quantiles: \n",
      "0.25    25.75\n",
      "0.50    50.50\n",
      "0.75    75.25\n",
      "Name: BusinessID, dtype: float64\n",
      "\n",
      "\n",
      "Min: 1, Max: 50\n",
      "Quantiles: \n",
      "0.25    12.75\n",
      "0.50    26.00\n",
      "0.75    39.00\n",
      "Name: SupplierID, dtype: float64\n",
      "\n",
      "\n",
      "Min: 1, Max: 10\n",
      "Quantiles: \n",
      "0.25    3.0\n",
      "0.50    6.0\n",
      "0.75    8.0\n",
      "Name: Quality, dtype: float64\n",
      "\n",
      "\n",
      "Min: 1.01, Max: 9.99\n",
      "Quantiles: \n",
      "0.25    3.44\n",
      "0.50    5.62\n",
      "0.75    7.90\n",
      "Name: Serviceability, dtype: float64\n",
      "\n",
      "\n",
      "Min: 1.0, Max: 9.99\n",
      "Quantiles: \n",
      "0.25    3.2375\n",
      "0.50    5.5550\n",
      "0.75    7.8700\n",
      "Name: Communicativeness, dtype: float64\n",
      "\n",
      "\n",
      "Min: 1.01, Max: 9.99\n",
      "Quantiles: \n",
      "0.25    3.4175\n",
      "0.50    5.5500\n",
      "0.75    7.6925\n",
      "Name: Reputation, dtype: float64\n",
      "\n",
      "\n",
      "Min: 1.0, Max: 9.97\n",
      "Quantiles: \n",
      "0.25    3.3000\n",
      "0.50    5.5200\n",
      "0.75    7.7725\n",
      "Name: Financial Condition, dtype: float64\n",
      "\n",
      "\n",
      "Min: 1.0, Max: 10.0\n",
      "Quantiles: \n",
      "0.25    3.205\n",
      "0.50    5.530\n",
      "0.75    7.700\n",
      "Name: Condition of Assets, dtype: float64\n",
      "\n",
      "\n",
      "Min: 0.0, Max: 10.0\n",
      "Quantiles: \n",
      "0.25    2.244898\n",
      "0.50    4.795918\n",
      "0.75    7.244898\n",
      "Name: Price, dtype: float64\n",
      "\n",
      "\n",
      "Min: 0.0, Max: 10.0\n",
      "Quantiles: \n",
      "0.25    2.5\n",
      "0.50    5.0\n",
      "0.75    7.5\n",
      "Name: Delivery Time, dtype: float64\n"
     ]
    }
   ],
   "source": [
    "num_columns = data.shape[1]\n",
    "\n",
    "for i in range(num_columns):\n",
    "    feature = data.columns[i]\n",
    "    print(\"\\n\")\n",
    "    printFeatureStats(feature)\n"
   ]
  },
  {
   "cell_type": "markdown",
   "id": "d396015c-eb2c-41b6-93a7-67bf446381e0",
   "metadata": {},
   "source": [
    "## Pre-processing"
   ]
  },
  {
   "cell_type": "code",
   "execution_count": 28,
   "id": "40b9c90a-1c6e-4992-a56d-d50435bf18fa",
   "metadata": {},
   "outputs": [
    {
     "name": "stdout",
     "output_type": "stream",
     "text": [
      "Min: 0.0, Max: 10.0\n",
      "Quantiles: \n",
      "0.25    2.244898\n",
      "0.50    4.795918\n",
      "0.75    7.244898\n",
      "Name: Price, dtype: float64\n",
      "Min: 0.0, Max: 10.0\n",
      "Quantiles: \n",
      "0.25    2.5\n",
      "0.50    5.0\n",
      "0.75    7.5\n",
      "Name: Delivery Time, dtype: float64\n"
     ]
    }
   ],
   "source": [
    "#Normalize all data between 1 to 10\n",
    "\n",
    "scaler = skp.MinMaxScaler(feature_range=(0, 10))\n",
    "\n",
    "data['Price'] = scaler.fit_transform(data[['Price']])\n",
    "data['Delivery Time'] = scaler.fit_transform(data[['Delivery Time']])\n",
    "\n",
    "printFeatureStats('Price')\n",
    "printFeatureStats('Delivery Time')"
   ]
  },
  {
   "cell_type": "code",
   "execution_count": 31,
   "id": "5acc5339-b823-4247-9e7e-69215a7f353e",
   "metadata": {},
   "outputs": [
    {
     "name": "stdout",
     "output_type": "stream",
     "text": [
      "Index(['BusinessID', 'SupplierID', 'Quality', 'Serviceability',\n",
      "       'Communicativeness', 'Reputation', 'Financial Condition',\n",
      "       'Condition of Assets', 'Price', 'Delivery Time'],\n",
      "      dtype='object')\n"
     ]
    }
   ],
   "source": [
    "data.rename(columns={'Condition of Supplier\\'s Assets': 'Condition of Assets'}, inplace=True)\n",
    "print(data.columns)"
   ]
  },
  {
   "cell_type": "code",
   "execution_count": 122,
   "id": "5e7bd515-aade-4ad0-b32d-72133c2423db",
   "metadata": {},
   "outputs": [],
   "source": [
    "weights = {\n",
    "    'Quality': 0.3,\n",
    "    'Serviceability': 0.2,\n",
    "    'Communicativeness': 0.08,\n",
    "    'Reputation': 0.02,\n",
    "    'Financial Condition': 0.05,\n",
    "    'Condition of Assets': 0.05,\n",
    "    'Price': 0.15,\n",
    "    'Delivery Time': 0.15\n",
    "}"
   ]
  },
  {
   "cell_type": "code",
   "execution_count": 123,
   "id": "f1553cc1-096b-4e53-a959-be8bdf9eb08d",
   "metadata": {},
   "outputs": [
    {
     "name": "stdout",
     "output_type": "stream",
     "text": [
      "1000\n",
      "1000\n"
     ]
    }
   ],
   "source": [
    "business_id = data['BusinessID'].values\n",
    "supplier_id = data['SupplierID'].values\n",
    "\n",
    "def create_matrix(feature):\n",
    "    value = data[feature].values\n",
    "    utility_matrix = sp.coo_matrix((value, (business_id, supplier_id)))\n",
    "    return utility_matrix\n",
    "\n",
    "print(len(business_id))\n",
    "print(len(supplier_id))\n",
    "\n",
    "# quality_matrix = create_matrix('Quality')\n",
    "# serviceability_matrix = create_matrix('Serviceability')\n",
    "# communicativeness_matrix = create_matrix('Commicativeness')\n",
    "# reputation_matrix = create_matrix('Reputation')\n",
    "# financial_matrix = create_matrix('Financial Condition')\n",
    "# asset_matrix = create_matrix('Condition of Assets')\n",
    "# price_matrix = create_matrix('Price')\n",
    "# delivery_matrix = create_matrix('Delivery Time')\n",
    "\n"
   ]
  },
  {
   "cell_type": "code",
   "execution_count": 124,
   "id": "5fa64a70-4fbd-4b58-acff-bcb5d09e82db",
   "metadata": {},
   "outputs": [
    {
     "name": "stdout",
     "output_type": "stream",
     "text": [
      "Utility matrix\n",
      "<bound method _coo_base.toarray of <COOrdinate sparse matrix of dtype 'float64'\n",
      "\twith 1000 stored elements and shape (101, 51)>>\n"
     ]
    }
   ],
   "source": [
    "utility_matrix = np.zeros((101, 51))\n",
    "for i in range (2, num_columns):\n",
    "    feature = data.columns[i]\n",
    "    feature_matrix = create_matrix(feature)\n",
    "\n",
    "    utility_matrix += feature_matrix * weights[feature]\n",
    "\n",
    "utility_matrix = sp.coo_matrix(combined_matrix)\n",
    "print(\"Utility matrix\")\n",
    "print(utility_matrix.toarray)"
   ]
  },
  {
   "cell_type": "code",
   "execution_count": 156,
   "id": "db6e94ff-5360-4080-b591-a880d22bd516",
   "metadata": {},
   "outputs": [],
   "source": [
    "#split data into train and test sets\n",
    "\n",
    "train_full, test = train_test_split(utility_matrix, train_percentage=0.75)"
   ]
  },
  {
   "cell_type": "code",
   "execution_count": 157,
   "id": "22aace0e-637f-449f-b61c-52995f03c05c",
   "metadata": {},
   "outputs": [],
   "source": [
    "train, val = train_test_split(train_full, train_percentage=0.8)"
   ]
  },
  {
   "cell_type": "code",
   "execution_count": 158,
   "id": "3de24b7e-ee0a-4f41-bd0d-33351982eaba",
   "metadata": {},
   "outputs": [
    {
     "name": "stdout",
     "output_type": "stream",
     "text": [
      "train: 611\n",
      "validation: 129\n",
      "test: 260\n"
     ]
    }
   ],
   "source": [
    "print(f\"train: {train.nnz}\")\n",
    "print(f\"validation: {val.nnz}\")\n",
    "print(f\"test: {test.nnz}\")"
   ]
  },
  {
   "cell_type": "markdown",
   "id": "65feea4c-e1df-47fb-9479-5c9de1b4ea8b",
   "metadata": {},
   "source": [
    "## Run and Evaluate ALS Model"
   ]
  },
  {
   "cell_type": "code",
   "execution_count": 159,
   "id": "3cf79bfe-9ac0-459e-a1d0-24a5c889dc30",
   "metadata": {},
   "outputs": [],
   "source": [
    "def als_tuning(trial):\n",
    "    factors = trial.suggest_int(name='factors',\n",
    "                                low=10,high=60,step=10)\n",
    "    regularization = trial.suggest_float(name='regularization',\n",
    "                                       low=0.01, high=1.0, step=0.001)\n",
    "    iterations = trial.suggest_int(name='iterations',\n",
    "                                   low=10, high=30, step=10)\n",
    "    alpha = trial.suggest_int(name='alpha',\n",
    "                                   low=5, high=50, step=5)\n",
    "    #instance of model\n",
    "    als_model = AlternatingLeastSquares(factors=factors, \n",
    "                                        regularization=regularization,\n",
    "                                        iterations=iterations,\n",
    "                                        alpha=alpha\n",
    "                                       )\n",
    "    #train the model and evaluate\n",
    "    als_model.fit(train)\n",
    "    val_metrics = ndcg_at_k(model=als_model, \n",
    "                                   train_user_items=train_full, \n",
    "                                   test_user_items=test, \n",
    "                                   K=5\n",
    "                                  )\n",
    "    return val_metrics"
   ]
  },
  {
   "cell_type": "code",
   "execution_count": 162,
   "id": "c6f90430-9a96-42c6-9ff1-a09fac8a2a57",
   "metadata": {},
   "outputs": [
    {
     "name": "stderr",
     "output_type": "stream",
     "text": [
      "[I 2024-09-18 14:46:49,345] A new study created in memory with name: no-name-3e29058b-eb49-4447-bcc1-da4703927cc4\n"
     ]
    },
    {
     "data": {
      "application/vnd.jupyter.widget-view+json": {
       "model_id": "de5cd407fd82463e90cdda3e7d1b7af2",
       "version_major": 2,
       "version_minor": 0
      },
      "text/plain": [
       "  0%|          | 0/10 [00:00<?, ?it/s]"
      ]
     },
     "metadata": {},
     "output_type": "display_data"
    },
    {
     "data": {
      "application/vnd.jupyter.widget-view+json": {
       "model_id": "7507f90329f44f4ea32fae62f9d755d4",
       "version_major": 2,
       "version_minor": 0
      },
      "text/plain": [
       "  0%|          | 0/97 [00:00<?, ?it/s]"
      ]
     },
     "metadata": {},
     "output_type": "display_data"
    },
    {
     "name": "stderr",
     "output_type": "stream",
     "text": [
      "[I 2024-09-18 14:46:49,382] Trial 0 finished with value: 0.11986840562868668 and parameters: {'factors': 10, 'regularization': 0.452, 'iterations': 10, 'alpha': 45}. Best is trial 0 with value: 0.11986840562868668.\n"
     ]
    },
    {
     "data": {
      "application/vnd.jupyter.widget-view+json": {
       "model_id": "775915e115844d378b5fc9da6900d1c4",
       "version_major": 2,
       "version_minor": 0
      },
      "text/plain": [
       "  0%|          | 0/20 [00:00<?, ?it/s]"
      ]
     },
     "metadata": {},
     "output_type": "display_data"
    },
    {
     "data": {
      "application/vnd.jupyter.widget-view+json": {
       "model_id": "d96e8a20f41849789b6ebf9560ab882b",
       "version_major": 2,
       "version_minor": 0
      },
      "text/plain": [
       "  0%|          | 0/97 [00:00<?, ?it/s]"
      ]
     },
     "metadata": {},
     "output_type": "display_data"
    },
    {
     "name": "stderr",
     "output_type": "stream",
     "text": [
      "[I 2024-09-18 14:46:49,432] Trial 1 finished with value: 0.10664040869890452 and parameters: {'factors': 60, 'regularization': 0.108, 'iterations': 20, 'alpha': 20}. Best is trial 1 with value: 0.10664040869890452.\n"
     ]
    },
    {
     "data": {
      "application/vnd.jupyter.widget-view+json": {
       "model_id": "5c85acb5f01c4b22876dbcef29292ba4",
       "version_major": 2,
       "version_minor": 0
      },
      "text/plain": [
       "  0%|          | 0/20 [00:00<?, ?it/s]"
      ]
     },
     "metadata": {},
     "output_type": "display_data"
    },
    {
     "data": {
      "application/vnd.jupyter.widget-view+json": {
       "model_id": "2903a29f29d142799421f7d199ade102",
       "version_major": 2,
       "version_minor": 0
      },
      "text/plain": [
       "  0%|          | 0/97 [00:00<?, ?it/s]"
      ]
     },
     "metadata": {},
     "output_type": "display_data"
    },
    {
     "name": "stderr",
     "output_type": "stream",
     "text": [
      "[I 2024-09-18 14:46:49,455] Trial 2 finished with value: 0.11575621036011584 and parameters: {'factors': 10, 'regularization': 0.23800000000000002, 'iterations': 20, 'alpha': 50}. Best is trial 1 with value: 0.10664040869890452.\n"
     ]
    },
    {
     "data": {
      "application/vnd.jupyter.widget-view+json": {
       "model_id": "8c6eddbf5dae4f4fbf7f457022852ad6",
       "version_major": 2,
       "version_minor": 0
      },
      "text/plain": [
       "  0%|          | 0/30 [00:00<?, ?it/s]"
      ]
     },
     "metadata": {},
     "output_type": "display_data"
    },
    {
     "data": {
      "application/vnd.jupyter.widget-view+json": {
       "model_id": "73255755fa9640d3b21a7b4af742697c",
       "version_major": 2,
       "version_minor": 0
      },
      "text/plain": [
       "  0%|          | 0/97 [00:00<?, ?it/s]"
      ]
     },
     "metadata": {},
     "output_type": "display_data"
    },
    {
     "name": "stderr",
     "output_type": "stream",
     "text": [
      "[I 2024-09-18 14:46:49,498] Trial 3 finished with value: 0.08053710444417504 and parameters: {'factors': 30, 'regularization': 0.8250000000000001, 'iterations': 30, 'alpha': 10}. Best is trial 3 with value: 0.08053710444417504.\n"
     ]
    },
    {
     "data": {
      "application/vnd.jupyter.widget-view+json": {
       "model_id": "83e9af06600c4704bd679446ffd239d1",
       "version_major": 2,
       "version_minor": 0
      },
      "text/plain": [
       "  0%|          | 0/20 [00:00<?, ?it/s]"
      ]
     },
     "metadata": {},
     "output_type": "display_data"
    },
    {
     "data": {
      "application/vnd.jupyter.widget-view+json": {
       "model_id": "6bf55f9cd7a74dfcaedf19c195355fad",
       "version_major": 2,
       "version_minor": 0
      },
      "text/plain": [
       "  0%|          | 0/97 [00:00<?, ?it/s]"
      ]
     },
     "metadata": {},
     "output_type": "display_data"
    },
    {
     "name": "stderr",
     "output_type": "stream",
     "text": [
      "[I 2024-09-18 14:46:49,541] Trial 4 finished with value: 0.08830044842241987 and parameters: {'factors': 50, 'regularization': 0.119, 'iterations': 20, 'alpha': 50}. Best is trial 3 with value: 0.08053710444417504.\n"
     ]
    },
    {
     "data": {
      "application/vnd.jupyter.widget-view+json": {
       "model_id": "1f5203868ca6475f9be735a75e355cc7",
       "version_major": 2,
       "version_minor": 0
      },
      "text/plain": [
       "  0%|          | 0/10 [00:00<?, ?it/s]"
      ]
     },
     "metadata": {},
     "output_type": "display_data"
    },
    {
     "data": {
      "application/vnd.jupyter.widget-view+json": {
       "model_id": "fa39299496e541e894a7d01621136d15",
       "version_major": 2,
       "version_minor": 0
      },
      "text/plain": [
       "  0%|          | 0/97 [00:00<?, ?it/s]"
      ]
     },
     "metadata": {},
     "output_type": "display_data"
    },
    {
     "name": "stderr",
     "output_type": "stream",
     "text": [
      "[I 2024-09-18 14:46:49,571] Trial 5 finished with value: 0.09280859720737719 and parameters: {'factors': 50, 'regularization': 0.6930000000000001, 'iterations': 10, 'alpha': 30}. Best is trial 3 with value: 0.08053710444417504.\n"
     ]
    },
    {
     "data": {
      "application/vnd.jupyter.widget-view+json": {
       "model_id": "b9a8947dd94a4793be466ea93d686509",
       "version_major": 2,
       "version_minor": 0
      },
      "text/plain": [
       "  0%|          | 0/30 [00:00<?, ?it/s]"
      ]
     },
     "metadata": {},
     "output_type": "display_data"
    },
    {
     "data": {
      "application/vnd.jupyter.widget-view+json": {
       "model_id": "c0ce4f920db54ab4b46dd157d91fac1a",
       "version_major": 2,
       "version_minor": 0
      },
      "text/plain": [
       "  0%|          | 0/97 [00:00<?, ?it/s]"
      ]
     },
     "metadata": {},
     "output_type": "display_data"
    },
    {
     "name": "stderr",
     "output_type": "stream",
     "text": [
      "[I 2024-09-18 14:46:49,640] Trial 6 finished with value: 0.09905986503730287 and parameters: {'factors': 60, 'regularization': 0.395, 'iterations': 30, 'alpha': 30}. Best is trial 3 with value: 0.08053710444417504.\n"
     ]
    },
    {
     "data": {
      "application/vnd.jupyter.widget-view+json": {
       "model_id": "7a4c05b0e04f4568b893179d58f10d0a",
       "version_major": 2,
       "version_minor": 0
      },
      "text/plain": [
       "  0%|          | 0/30 [00:00<?, ?it/s]"
      ]
     },
     "metadata": {},
     "output_type": "display_data"
    },
    {
     "data": {
      "application/vnd.jupyter.widget-view+json": {
       "model_id": "816eec7c961a426aa6561c0af4041ea3",
       "version_major": 2,
       "version_minor": 0
      },
      "text/plain": [
       "  0%|          | 0/97 [00:00<?, ?it/s]"
      ]
     },
     "metadata": {},
     "output_type": "display_data"
    },
    {
     "name": "stderr",
     "output_type": "stream",
     "text": [
      "[I 2024-09-18 14:46:49,696] Trial 7 finished with value: 0.10128051976209057 and parameters: {'factors': 50, 'regularization': 0.652, 'iterations': 30, 'alpha': 30}. Best is trial 3 with value: 0.08053710444417504.\n"
     ]
    },
    {
     "data": {
      "application/vnd.jupyter.widget-view+json": {
       "model_id": "5ef9b4663f6442518f8ad47e688ec17a",
       "version_major": 2,
       "version_minor": 0
      },
      "text/plain": [
       "  0%|          | 0/20 [00:00<?, ?it/s]"
      ]
     },
     "metadata": {},
     "output_type": "display_data"
    },
    {
     "data": {
      "application/vnd.jupyter.widget-view+json": {
       "model_id": "05ff4095dc3f469ba1a8fbb8938f1de8",
       "version_major": 2,
       "version_minor": 0
      },
      "text/plain": [
       "  0%|          | 0/97 [00:00<?, ?it/s]"
      ]
     },
     "metadata": {},
     "output_type": "display_data"
    },
    {
     "name": "stderr",
     "output_type": "stream",
     "text": [
      "[I 2024-09-18 14:46:49,720] Trial 8 finished with value: 0.10991100892924958 and parameters: {'factors': 20, 'regularization': 0.502, 'iterations': 20, 'alpha': 35}. Best is trial 3 with value: 0.08053710444417504.\n"
     ]
    },
    {
     "data": {
      "application/vnd.jupyter.widget-view+json": {
       "model_id": "0cc0658ee5634a4e9691fa0db43da458",
       "version_major": 2,
       "version_minor": 0
      },
      "text/plain": [
       "  0%|          | 0/10 [00:00<?, ?it/s]"
      ]
     },
     "metadata": {},
     "output_type": "display_data"
    },
    {
     "data": {
      "application/vnd.jupyter.widget-view+json": {
       "model_id": "3c507da207334c10a010e9eae95d9569",
       "version_major": 2,
       "version_minor": 0
      },
      "text/plain": [
       "  0%|          | 0/97 [00:00<?, ?it/s]"
      ]
     },
     "metadata": {},
     "output_type": "display_data"
    },
    {
     "name": "stderr",
     "output_type": "stream",
     "text": [
      "[I 2024-09-18 14:46:49,747] Trial 9 finished with value: 0.10111670748736687 and parameters: {'factors': 40, 'regularization': 0.076, 'iterations': 10, 'alpha': 50}. Best is trial 3 with value: 0.08053710444417504.\n"
     ]
    }
   ],
   "source": [
    "als_study = optuna.create_study(direction=\"minimize\")\n",
    "als_study.optimize(als_tuning, n_trials=10)  "
   ]
  },
  {
   "cell_type": "code",
   "execution_count": 163,
   "id": "5419d278-3071-4e11-b7a5-8ba2732ed099",
   "metadata": {},
   "outputs": [
    {
     "name": "stdout",
     "output_type": "stream",
     "text": [
      "0.08053710444417504\n"
     ]
    }
   ],
   "source": [
    "print(als_study.best_value)"
   ]
  },
  {
   "cell_type": "markdown",
   "id": "bd4fb205-e24d-4040-be3b-0c92e636b83f",
   "metadata": {},
   "source": [
    "## Generate Predictions"
   ]
  },
  {
   "cell_type": "code",
   "execution_count": null,
   "id": "0fdcb1a6-fd34-4c4d-a1c5-b773f28793d5",
   "metadata": {},
   "outputs": [],
   "source": []
  }
 ],
 "metadata": {
  "kernelspec": {
   "display_name": "Python 3 (ipykernel)",
   "language": "python",
   "name": "python3"
  },
  "language_info": {
   "codemirror_mode": {
    "name": "ipython",
    "version": 3
   },
   "file_extension": ".py",
   "mimetype": "text/x-python",
   "name": "python",
   "nbconvert_exporter": "python",
   "pygments_lexer": "ipython3",
   "version": "3.12.6"
  }
 },
 "nbformat": 4,
 "nbformat_minor": 5
}
